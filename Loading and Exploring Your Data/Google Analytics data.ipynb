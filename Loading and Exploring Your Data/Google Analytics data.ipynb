{
 "cells": [
  {
   "cell_type": "markdown",
   "id": "1b6ea0c2",
   "metadata": {},
   "source": [
    "# Importing Google Analytics data"
   ]
  },
  {
   "cell_type": "code",
   "execution_count": null,
   "id": "3a513de7-4cb5-406a-a71e-143deb2eb138",
   "metadata": {},
   "outputs": [],
   "source": [
    "import pandas as pd\n",
    "from pytrends.request import TrendReq\n",
    "\n",
    "%matplotlib inline"
   ]
  },
  {
   "cell_type": "code",
   "execution_count": null,
   "id": "9fafecf9",
   "metadata": {},
   "outputs": [],
   "source": [
    "import warnings\n",
    "\n",
    "# Suppress the UserWarning globally\n",
    "warnings.filterwarnings(\"ignore\", category=UserWarning)"
   ]
  },
  {
   "cell_type": "code",
   "execution_count": null,
   "id": "9e833655",
   "metadata": {},
   "outputs": [],
   "source": [
    "df = pd.read_csv('../data/ga_data/ga_keyword.csv')"
   ]
  },
  {
   "cell_type": "code",
   "execution_count": null,
   "id": "eaf41ef9",
   "metadata": {},
   "outputs": [],
   "source": [
    "df.head(25)"
   ]
  },
  {
   "cell_type": "code",
   "execution_count": null,
   "id": "a51f522b",
   "metadata": {},
   "outputs": [],
   "source": [
    "ga_kw_data = pd.read_csv('../data/ga_data/ga_keyword.csv', skiprows=6, nrows=5)\n",
    "\n",
    "ga_kw_traffic_data = pd.read_csv('../data/ga_data/ga_keyword.csv', \n",
    "                              skiprows=14, nrows=366, parse_dates=['Day Index'])"
   ]
  },
  {
   "cell_type": "code",
   "execution_count": null,
   "id": "50801eb7",
   "metadata": {},
   "outputs": [],
   "source": [
    "ga_kw_data.head()"
   ]
  },
  {
   "cell_type": "code",
   "execution_count": null,
   "id": "3f06ba74",
   "metadata": {},
   "outputs": [],
   "source": [
    "ga_kw_traffic_data.head()"
   ]
  },
  {
   "cell_type": "code",
   "execution_count": null,
   "id": "8233f6b0",
   "metadata": {},
   "outputs": [],
   "source": [
    "ga_page_data = pd.read_csv('../data/ga_data/ga_pages.csv', skiprows=6, nrows=376)\n",
    "\n",
    "ga_page_traffic_data = pd.read_csv('../data/ga_data/ga_pages.csv',\n",
    "                                   skiprows=386, nrows=367,\n",
    "                                   parse_dates=['Day Index'])"
   ]
  },
  {
   "cell_type": "code",
   "execution_count": null,
   "id": "0a90c612",
   "metadata": {},
   "outputs": [],
   "source": [
    "ga_page_data.head()"
   ]
  },
  {
   "cell_type": "code",
   "execution_count": null,
   "id": "0a014d3e",
   "metadata": {},
   "outputs": [],
   "source": [
    "ga_page_traffic_data.head()"
   ]
  },
  {
   "cell_type": "code",
   "execution_count": null,
   "id": "f2657497",
   "metadata": {},
   "outputs": [],
   "source": [
    "ga_ref_data = pd.read_csv('../data/ga_data/ga_refering_sites.csv', \n",
    "                          skiprows=6, nrows=10)\n",
    "\n",
    "ga_ref_traffic_data = pd.read_csv('../data/ga_data/ga_refering_sites.csv',\n",
    "                                  skiprows=18, nrows=366,\n",
    "                                  parse_dates=['Day Index'])"
   ]
  },
  {
   "cell_type": "code",
   "execution_count": null,
   "id": "24d3ed76",
   "metadata": {},
   "outputs": [],
   "source": [
    "ga_ref_data.head()"
   ]
  },
  {
   "cell_type": "code",
   "execution_count": null,
   "id": "8b34d078",
   "metadata": {},
   "outputs": [],
   "source": [
    "ga_ref_traffic_data.head()"
   ]
  },
  {
   "cell_type": "code",
   "execution_count": null,
   "id": "106c4af1",
   "metadata": {},
   "outputs": [],
   "source": [
    "ga_social_data = pd.read_csv('../data/ga_data/ga_social_data.csv', skiprows=5,\n",
    "                             nrows=7)\n",
    "\n",
    "ga_social_traffic_data = pd.read_csv('../data/ga_data/ga_social_data.csv',\n",
    "                                     skiprows=15, nrows=366,\n",
    "                                     parse_dates=['Day Index'])"
   ]
  },
  {
   "cell_type": "code",
   "execution_count": null,
   "id": "b17c971e",
   "metadata": {},
   "outputs": [],
   "source": [
    "ga_social_data.head()"
   ]
  },
  {
   "cell_type": "code",
   "execution_count": null,
   "id": "2c4029ad",
   "metadata": {},
   "outputs": [],
   "source": [
    "ga_social_traffic_data.head()"
   ]
  },
  {
   "cell_type": "code",
   "execution_count": null,
   "id": "6875fb47",
   "metadata": {},
   "outputs": [],
   "source": [
    "ga_other_data = pd.read_csv('../data/ga_data/ga_other.csv', skiprows=6, nrows=5)\n",
    "\n",
    "ga_other_traffic_data = pd.read_csv('../data/ga_data/ga_other.csv', skiprows=13,\n",
    "                                    nrows=366, parse_dates=['Day Index'])"
   ]
  },
  {
   "cell_type": "code",
   "execution_count": null,
   "id": "fda6a176",
   "metadata": {},
   "outputs": [],
   "source": [
    "ga_other_data.head()"
   ]
  },
  {
   "cell_type": "code",
   "execution_count": null,
   "id": "5072a9db",
   "metadata": {},
   "outputs": [],
   "source": [
    "ga_other_traffic_data.head()"
   ]
  },
  {
   "cell_type": "code",
   "execution_count": null,
   "id": "36dc7469",
   "metadata": {},
   "outputs": [],
   "source": [
    "ga_total_data = pd.read_csv('../data/ga_data/ga_total_channels.csv', skiprows=6,\n",
    "                            nrows=5)\n",
    "\n",
    "ga_total_traffic_data = pd.read_csv('../data/ga_data/ga_total_channels.csv', \n",
    "                                    skiprows=13, nrows=366, \n",
    "                                    parse_dates=['Day Index'])"
   ]
  },
  {
   "cell_type": "code",
   "execution_count": null,
   "id": "61747d34",
   "metadata": {},
   "outputs": [],
   "source": [
    "ga_total_data.head()"
   ]
  },
  {
   "cell_type": "code",
   "execution_count": null,
   "id": "39b8aba2",
   "metadata": {},
   "outputs": [],
   "source": [
    "ga_total_traffic_data.head()"
   ]
  },
  {
   "cell_type": "markdown",
   "id": "3f8d8e35",
   "metadata": {},
   "source": [
    "# Importing Google Search Console ddata"
   ]
  },
  {
   "cell_type": "code",
   "execution_count": null,
   "id": "10b9c5df",
   "metadata": {},
   "outputs": [],
   "source": [
    "gsc_query = pd.read_csv('../data/gsc_data/gsc_query.csv')"
   ]
  },
  {
   "cell_type": "code",
   "execution_count": null,
   "id": "0fd33ca7",
   "metadata": {},
   "outputs": [],
   "source": [
    "gsc_query.head()"
   ]
  },
  {
   "cell_type": "code",
   "execution_count": null,
   "id": "096faa91",
   "metadata": {},
   "outputs": [],
   "source": [
    "gsc_page = pd.read_csv('../data/gsc_data/gsc_pages.csv')"
   ]
  },
  {
   "cell_type": "code",
   "execution_count": null,
   "id": "92cbc10a",
   "metadata": {},
   "outputs": [],
   "source": [
    "gsc_page.head()"
   ]
  },
  {
   "cell_type": "code",
   "execution_count": null,
   "id": "07b6b889",
   "metadata": {},
   "outputs": [],
   "source": [
    "gsc_country = pd.read_csv('../data/gsc_data/gsc_country.csv')"
   ]
  },
  {
   "cell_type": "code",
   "execution_count": null,
   "id": "f8c06832",
   "metadata": {},
   "outputs": [],
   "source": [
    "gsc_country.head()"
   ]
  },
  {
   "cell_type": "code",
   "execution_count": null,
   "id": "2dc5ab79",
   "metadata": {},
   "outputs": [],
   "source": [
    "gsc_device = pd.read_csv('../data/gsc_data/gsc_device.csv')"
   ]
  },
  {
   "cell_type": "code",
   "execution_count": null,
   "id": "d55ceb06",
   "metadata": {},
   "outputs": [],
   "source": [
    "gsc_device.head()"
   ]
  },
  {
   "cell_type": "code",
   "execution_count": null,
   "id": "95e49e35",
   "metadata": {},
   "outputs": [],
   "source": [
    "gsc_appearance = pd.read_csv('../data/gsc_data/gsc_apperance.csv')"
   ]
  },
  {
   "cell_type": "code",
   "execution_count": null,
   "id": "479eaa5e",
   "metadata": {},
   "outputs": [],
   "source": [
    "gsc_appearance.head()"
   ]
  },
  {
   "cell_type": "markdown",
   "id": "efcb86ac",
   "metadata": {},
   "source": [
    "# Importing Adwords PPC CSV"
   ]
  },
  {
   "cell_type": "code",
   "execution_count": null,
   "id": "b580f86e",
   "metadata": {},
   "outputs": [],
   "source": [
    "ppc_data = pd.read_csv('../data/other_data/ppc_data.csv')"
   ]
  },
  {
   "cell_type": "code",
   "execution_count": null,
   "id": "768aaa61",
   "metadata": {},
   "outputs": [],
   "source": [
    "ppc_data.head()"
   ]
  },
  {
   "cell_type": "markdown",
   "id": "ba1915d5",
   "metadata": {},
   "source": [
    "# Importing Facebook Ad CSV"
   ]
  },
  {
   "cell_type": "code",
   "execution_count": null,
   "id": "e7bd6191",
   "metadata": {},
   "outputs": [],
   "source": [
    "fb_data = pd.read_csv('../data/other_data/facebook-data-ads.csv',\n",
    "                      parse_dates=['Reporting starts', 'Reporting ends'])"
   ]
  },
  {
   "cell_type": "code",
   "execution_count": null,
   "id": "b66a7372",
   "metadata": {},
   "outputs": [],
   "source": [
    "fb_data.head()"
   ]
  },
  {
   "cell_type": "markdown",
   "id": "c5d9d6f8",
   "metadata": {},
   "source": [
    "# Importing Competitor Site Visability CSV"
   ]
  },
  {
   "cell_type": "code",
   "execution_count": null,
   "id": "173d93a3",
   "metadata": {},
   "outputs": [],
   "source": [
    "site_visability = pd.read_csv('../data/other_data/site_visibility.csv')"
   ]
  },
  {
   "cell_type": "code",
   "execution_count": null,
   "id": "056b6b83",
   "metadata": {},
   "outputs": [],
   "source": [
    "site_visability.head()"
   ]
  },
  {
   "cell_type": "markdown",
   "id": "f6fdf8ef",
   "metadata": {},
   "source": [
    "# Import Keyword Rank Tracking Data CSV"
   ]
  },
  {
   "cell_type": "code",
   "execution_count": null,
   "id": "eb79dc37",
   "metadata": {},
   "outputs": [],
   "source": [
    "ranking_data = pd.read_csv('../data/other_data/ranking_data.csv')"
   ]
  },
  {
   "cell_type": "code",
   "execution_count": null,
   "id": "5e1a9d44",
   "metadata": {},
   "outputs": [],
   "source": [
    "ranking_data.head()"
   ]
  },
  {
   "cell_type": "code",
   "execution_count": null,
   "id": "6a6521c4",
   "metadata": {},
   "outputs": [],
   "source": [
    "ranking_data[['Day Index', 'app competitor analysis']].head()"
   ]
  },
  {
   "cell_type": "markdown",
   "id": "e083ff03",
   "metadata": {},
   "source": [
    "## How to import Google Trends data via an API \n",
    "\n",
    "In this section we're going to see how to use an opensource API to gather data that we can use in our strategic analysis. <b>IMPORTANT:</b> Curretnly this API will only work with `pandas .23.4`. This will change in the future. https://github.com/GeneralMills/pytrends thanks for General Mills for creating this handy repository."
   ]
  },
  {
   "cell_type": "code",
   "execution_count": 45,
   "id": "38731bf3",
   "metadata": {},
   "outputs": [],
   "source": [
    "pytrends = TrendReq(hl='en-GB', tz=360, timeout=(10.25),\n",
    "                    retries=2, backoff_factor=0.1)"
   ]
  },
  {
   "cell_type": "code",
   "execution_count": 46,
   "id": "1f822899",
   "metadata": {},
   "outputs": [],
   "source": [
    "kw_list = [\"seo audit\", \"aso audit\", \"app marketing agency\", \"seo agency\", \"aso agency\"]"
   ]
  },
  {
   "cell_type": "markdown",
   "id": "0ac98606",
   "metadata": {},
   "source": [
    "It's possible to change the category, locations, regions. You can find your category here https://github.com/pat310/google-trends-api/wiki/Google-Trends-Categories"
   ]
  },
  {
   "cell_type": "code",
   "execution_count": null,
   "id": "4ccf07bd",
   "metadata": {},
   "outputs": [],
   "source": [
    "pytrends.build_payload(kw_list,\n",
    "                       cat=83,\n",
    "                       timeframe='today 5-y',\n",
    "                       geo='',\n",
    "                       gprop='')"
   ]
  },
  {
   "cell_type": "markdown",
   "id": "e1798440",
   "metadata": {},
   "source": [
    "# Basic Visualisations in Pandas"
   ]
  },
  {
   "cell_type": "code",
   "execution_count": null,
   "id": "41977e9b",
   "metadata": {},
   "outputs": [],
   "source": []
  }
 ],
 "metadata": {
  "kernelspec": {
   "display_name": "Python 3 (ipykernel)",
   "language": "python",
   "name": "python3"
  },
  "language_info": {
   "codemirror_mode": {
    "name": "ipython",
    "version": 3
   },
   "file_extension": ".py",
   "mimetype": "text/x-python",
   "name": "python",
   "nbconvert_exporter": "python",
   "pygments_lexer": "ipython3",
   "version": "3.12.3"
  }
 },
 "nbformat": 4,
 "nbformat_minor": 5
}
